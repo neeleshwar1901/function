{
  "nbformat": 4,
  "nbformat_minor": 0,
  "metadata": {
    "colab": {
      "provenance": []
    },
    "kernelspec": {
      "name": "python3",
      "display_name": "Python 3"
    },
    "language_info": {
      "name": "python"
    }
  },
  "cells": [
    {
      "cell_type": "markdown",
      "source": [
        "Q1.Create an arrow function called square that takes a number as an argument and returns its square. Use\n",
        "the arrow function to calculate the square of a given number and display the result"
      ],
      "metadata": {
        "id": "pWOr4tNYwYDK"
      }
    },
    {
      "cell_type": "code",
      "source": [
        "const square = (num) => num * num;\n",
        "const result = square(5);\n",
        "// Display the result\n",
        "console.log(`The square of 5 is: ${result}`);\n"
      ],
      "metadata": {
        "id": "Ao3IWtDrwb8e"
      },
      "execution_count": null,
      "outputs": []
    },
    {
      "cell_type": "markdown",
      "source": [
        "Q2.Create a JavaScript function called generateGreeting that takes a name as an argument and returns a\n",
        "personalized greeting message. Use this function to greet three different people."
      ],
      "metadata": {
        "id": "0TF82F0Zwy7Z"
      }
    },
    {
      "cell_type": "code",
      "source": [
        "function generateGreeting(name) {\n",
        "  return `Hello, ${name}! Welcome to our site.`;\n",
        "}\n",
        "\n",
        "// Using the function for different names\n",
        "const greeting1 = generateGreeting(\"Alice\");\n",
        "const greeting2 = generateGreeting(\"Bob\");\n",
        "const greeting3 = generateGreeting(\"Charlie\");\n",
        "\n",
        "console.log(greeting1);\n",
        "console.log(greeting2);\n",
        "console.log(greeting3);\n"
      ],
      "metadata": {
        "id": "O26EejInxBSL"
      },
      "execution_count": null,
      "outputs": []
    },
    {
      "cell_type": "markdown",
      "source": [
        "Q3.Create an IIFE (Immediately Invoked Function Expression) that calculates the square of a number and\n",
        "immediately displays the result."
      ],
      "metadata": {
        "id": "wT1MhKx7x3DV"
      }
    },
    {
      "cell_type": "code",
      "source": [
        "(function(num) {\n",
        "  const square = num * num;\n",
        "  console.log(`The square of ${num} is: ${square}`);\n",
        "})(7);\n"
      ],
      "metadata": {
        "id": "ZBigzqNtx7YX"
      },
      "execution_count": null,
      "outputs": []
    },
    {
      "cell_type": "markdown",
      "source": [
        "Q4.Write a JavaScript function called calculateTax that takes an income as an argument and returns the\n",
        "amount of tax to be paid. Use a closure to handle different tax rates based on income ranges. Test the\n",
        "function with various incomes."
      ],
      "metadata": {
        "id": "t8nEV60lyf39"
      }
    },
    {
      "cell_type": "code",
      "source": [
        "function calculateTax() {\n",
        "  return function(income) {\n",
        "    let tax;\n",
        "    if (income <= 25000) {\n",
        "      tax = income * 0.1; /\n",
        "    } else if (income <= 50000) {\n",
        "      tax = income * 0.2;\n",
        "    } else {\n",
        "      tax = income * 0.3;\n",
        "    }\n",
        "    return tax;\n",
        "  };\n",
        "}\n",
        "\n",
        "const taxCalculator = calculateTax();\n",
        "\n",
        "// Test with various incomes\n",
        "const income1 = 18000;\n",
        "const income2 = 35000;\n",
        "const income3 = 75000;\n",
        "\n",
        "console.log(`Tax for income $${income1} is $${taxCalculator(income1)}`);\n",
        "console.log(`Tax for income $${income2} is $${taxCalculator(income2)}`);\n",
        "console.log(`Tax for income $${income3} is $${taxCalculator(income3)}`);\n"
      ],
      "metadata": {
        "id": "vB1Dx3Kkyqk6"
      },
      "execution_count": null,
      "outputs": []
    },
    {
      "cell_type": "markdown",
      "source": [
        "Q5.Write a JavaScript function called factorial that calculates the factorial of a non-negative integer using\n",
        "recursion. Test the function with different inputs."
      ],
      "metadata": {
        "id": "5KVyNJk6y-Tc"
      }
    },
    {
      "cell_type": "code",
      "source": [
        "function factorial(n) {\n",
        "  if (n < 0) {\n",
        "    return \"Factorial is not defined for negative numbers.\";\n",
        "  } else if (n === 0 || n === 1) {\n",
        "    return 1;\n",
        "  } else {\n",
        "    return n * factorial(n - 1);\n",
        "  }\n",
        "}\n",
        "\n",
        "// Test the function with different inputs\n",
        "console.log(`Factorial of 0 is: ${factorial(0)}`);\n",
        "console.log(`Factorial of 1 is: ${factorial(1)}`);\n",
        "console.log(`Factorial of 5 is: ${factorial(5)}`);\n",
        "console.log(`Factorial of 7 is: ${factorial(7)}`);\n",
        "console.log(`Factorial of -3 is: ${factorial(-3)}`);\n"
      ],
      "metadata": {
        "id": "gcd-6NMPzCk2"
      },
      "execution_count": null,
      "outputs": []
    },
    {
      "cell_type": "markdown",
      "source": [
        "Q6. Write a JavaScript function called curry that takes a function as an argument and returns a curried\n",
        "version of that function. The curried function should accept arguments one at a time and return a new\n",
        "function until all arguments are provided. Then, it should execute the original function with all arguments.\n",
        "Test the curry function with a function that adds two numbers."
      ],
      "metadata": {
        "id": "9hAmO_sB0YgP"
      }
    },
    {
      "cell_type": "code",
      "source": [
        "function curry(fn) {\n",
        "  return function curried(...args) {\n",
        "    if (args.length >= fn.length) {\n",
        "      return fn(...args); // All arguments provided\n",
        "    } else {\n",
        "      return function(...nextArgs) {\n",
        "        return curried(...args, ...nextArgs);\n",
        "      };\n",
        "    }\n",
        "  };\n",
        "}\n",
        "\n",
        "function add(a, b) {\n",
        "  return a + b;\n",
        "}\n",
        "\n",
        "const curriedAdd = curry(add);\n",
        "\n",
        "console.log(curriedAdd(3)(5));  // Output: 8\n",
        "console.log(curriedAdd(10)(20)); // Output: 30\n"
      ],
      "metadata": {
        "id": "zogoivd00ebn"
      },
      "execution_count": null,
      "outputs": []
    }
  ]
}